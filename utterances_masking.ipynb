{
 "cells": [
  {
   "cell_type": "markdown",
   "id": "e7887f83-26eb-4861-a2ad-4ca64c50c362",
   "metadata": {},
   "source": [
    "### Notes\n",
    "We might need to remove the common words in the corpus beside the stop words as those are common cross all corpus"
   ]
  },
  {
   "cell_type": "code",
   "id": "19474cb8df5adcd0",
   "metadata": {},
   "source": [
    "import csv\n",
    "import re as re\n",
    "\n",
    "import nltk as nltk\n",
    "import pandas as pd\n",
    "from nltk.corpus import words\n",
    "from pandas import DataFrame\n",
    "from cleanup.utterances import lemmatize_passage\n",
    "\n",
    "utterances = pd.read_csv('./temp_data/utterances.csv')\n",
    "utterances['actionbody'] = utterances['actionbody'].astype(str)\n",
    "print(f'total recods {len(utterances)}')"
   ],
   "outputs": [],
   "execution_count": null
  },
  {
   "cell_type": "code",
   "id": "74cee6337e9dd9b",
   "metadata": {},
   "source": [
    "dic_words = {}\n",
    "for w in words.words():\n",
    "    dic_words.update({w:''})\n",
    "\n",
    "len(dic_words)"
   ],
   "outputs": [],
   "execution_count": null
  },
  {
   "cell_type": "code",
   "id": "9af8f626-14b9-42ea-881d-ab62ece5e452",
   "metadata": {
    "tags": []
   },
   "source": [
    "vocabulary = {}\n",
    "for idx, row in utterances.iterrows():\n",
    "    b_words = lemmatize_passage(row['actionbody'])\n",
    "    for w in b_words:\n",
    "        if w not in dic_words:\n",
    "            vocabulary.update({w:''})\n",
    "\n",
    "print('create vocabulary DF')            \n",
    "voc_df = DataFrame(columns=['word'])\n",
    "voc_df['word'] = vocabulary.keys()\n",
    "voc_df.set_index('word', inplace=True)\n",
    "voc_df.sort_values(by=['word'], ascending=True, inplace=True)\n",
    "\n",
    "print(f'size of vocabulary {len(voc_df)}')"
   ],
   "outputs": [],
   "execution_count": null
  },
  {
   "cell_type": "code",
   "id": "625ac191-aeb9-44c9-a396-55ea364168d5",
   "metadata": {
    "tags": []
   },
   "source": [
    "masked_uttr_df = pd.read_csv('./temp_data/utterances_voc_20250316.csv')\n",
    "masked_uttr_df.set_index('word',inplace=True)\n",
    "len(masked_uttr_df)"
   ],
   "outputs": [],
   "execution_count": null
  },
  {
   "cell_type": "code",
   "id": "d067178ce36b71a9",
   "metadata": {
    "tags": []
   },
   "source": [
    "joined_voc_df = voc_df.join(masked_uttr_df, on='word')\n",
    "not_taged_df = joined_voc_df[(pd.isna(joined_voc_df['type']))]\n",
    "not_taged_df.to_csv('./temp_data/vocabulary.csv',quoting=csv.QUOTE_ALL)\n",
    "len(not_taged_df)"
   ],
   "outputs": [],
   "execution_count": null
  }
 ],
 "metadata": {
  "kernelspec": {
   "display_name": "Python 3 (ipykernel)",
   "language": "python",
   "name": "python3"
  },
  "language_info": {
   "codemirror_mode": {
    "name": "ipython",
    "version": 3
   },
   "file_extension": ".py",
   "mimetype": "text/x-python",
   "name": "python",
   "nbconvert_exporter": "python",
   "pygments_lexer": "ipython3",
   "version": "3.10.9"
  }
 },
 "nbformat": 4,
 "nbformat_minor": 5
}
