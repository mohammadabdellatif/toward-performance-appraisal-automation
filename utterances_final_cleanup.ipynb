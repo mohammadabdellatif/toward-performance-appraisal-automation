{
 "cells": [
  {
   "cell_type": "markdown",
   "id": "e7887f83-26eb-4861-a2ad-4ca64c50c362",
   "metadata": {},
   "source": [
    "### Notes\n",
    "We might need to remove the common words in the corpus beside the stop words as those are common cross all corpus"
   ]
  },
  {
   "cell_type": "code",
   "id": "f03ffa5036989526",
   "metadata": {
    "tags": []
   },
   "source": [
    "import pandas as pd\n",
    "import nltk as nltk\n",
    "from cleanup.utterances import custom_tokenize\n",
    "import re\n",
    "\n",
    "utterances_df = pd.read_csv('./temp_data/utterances.csv')\n",
    "utterances_df.set_index('id')\n",
    "utterances_df['actionbody'] = utterances_df['actionbody'].astype('str')\n",
    "print(len(utterances_df))\n",
    "utterances_df.head(2)"
   ],
   "outputs": [],
   "execution_count": null
  },
  {
   "cell_type": "code",
   "id": "d72756bd3970f3b7",
   "metadata": {},
   "source": [
    "uttr_voc_df1 = pd.read_csv('./temp_data/utterances_voc_20250316.csv')\n",
    "uttr_voc_df1.set_index('word',inplace=True)\n",
    "uttr_voc_df1 = uttr_voc_df1.dropna()\n",
    "print(len(uttr_voc_df1))\n",
    "uttr_voc_df1.head(5)"
   ],
   "outputs": [],
   "execution_count": null
  },
  {
   "cell_type": "code",
   "id": "df46c6fe-7ee1-4667-a6b2-ab0b4703a354",
   "metadata": {
    "tags": []
   },
   "source": [
    "uttr_voc_df2 = pd.read_csv('temp_data/voc/vocabulary_20250322.csv')\n",
    "uttr_voc_df2.set_index('word',inplace=True)\n",
    "uttr_voc_df2 = uttr_voc_df2.dropna()\n",
    "print(len(uttr_voc_df2))\n",
    "uttr_voc_df2.head(5)"
   ],
   "outputs": [],
   "execution_count": null
  },
  {
   "cell_type": "code",
   "id": "25b31279-550e-474e-850c-332ed8115c99",
   "metadata": {
    "tags": []
   },
   "source": [
    "word_mapping_df = pd.concat([uttr_voc_df1,uttr_voc_df2])\n",
    "print(len(word_mapping_df))\n",
    "word_mapping_df.head(3)"
   ],
   "outputs": [],
   "execution_count": null
  },
  {
   "cell_type": "code",
   "id": "c4f61d4b-32e8-46dd-8f18-a2ba5414d594",
   "metadata": {
    "tags": []
   },
   "source": [
    "rows = utterances_df.iterrows()\n",
    "utterances_df['changed'] = False\n",
    "utterances_df['actionbody_old'] = utterances_df['actionbody']\n",
    "version_regex = re.compile(r'\\b[vV][\\d\\.]+\\b')\n",
    "for idx,r in rows:\n",
    "    body = r['actionbody']\n",
    "    body = re.sub(version_regex, 'ph_version', body)\n",
    "    body_words = custom_tokenize(body)\n",
    "    updated_body = \"\"\n",
    "    affected = False\n",
    "    ph_tec_count = 0\n",
    "    for word in body_words:\n",
    "        w = word\n",
    "        if word in word_mapping_df.index:\n",
    "            w = word_mapping_df.loc[w,'type']\n",
    "            if w == 'ph_technical':\n",
    "                ph_tec_count = ph_tec_count + 1\n",
    "            affected = True\n",
    "        updated_body += w  \n",
    "    if ph_tec_count / (len(body_words)/2) > 0.4:\n",
    "        updated_body = 'ph_technical'\n",
    "    if affected:\n",
    "        utterances_df.loc[idx,'actionbody'] = updated_body\n",
    "        utterances_df.loc[idx,'changed'] = True\n",
    "\n",
    "print('done')"
   ],
   "outputs": [],
   "execution_count": null
  },
  {
   "cell_type": "code",
   "id": "72a1f637-486c-4677-b0c7-f9459e510222",
   "metadata": {
    "tags": []
   },
   "source": [
    "changed_df = utterances_df[utterances_df['changed'] == True]\n",
    "changed_df[['id','issueid', 'created', 'author', 'utr_seq',\n",
    "       'is_private', 'comment_seq','actionbody_old', 'actionbody']].set_index('id').to_csv('./temp_data/utterances_cleaned_changed.csv')\n",
    "print(f'{len(changed_df)} of {len(utterances_df)}')"
   ],
   "outputs": [],
   "execution_count": null
  },
  {
   "cell_type": "code",
   "id": "a8aa8f04-b365-41b1-99cb-ff007205c7ba",
   "metadata": {
    "tags": []
   },
   "source": [
    "unchanged_df = utterances_df[utterances_df['changed'] == False]\n",
    "unchanged_df[['id','issueid', 'created', 'author', 'utr_seq',\n",
    "       'is_private', 'comment_seq','actionbody']].set_index('id').to_csv('./temp_data/utterances_cleaned.csv')\n",
    "print('done')        "
   ],
   "outputs": [],
   "execution_count": null
  },
  {
   "cell_type": "code",
   "id": "79fa2a44-ca7d-495d-9d4e-5cdddb786c7a",
   "metadata": {},
   "source": [],
   "outputs": [],
   "execution_count": null
  }
 ],
 "metadata": {
  "kernelspec": {
   "display_name": "Python 3 (ipykernel)",
   "language": "python",
   "name": "python3"
  },
  "language_info": {
   "codemirror_mode": {
    "name": "ipython",
    "version": 3
   },
   "file_extension": ".py",
   "mimetype": "text/x-python",
   "name": "python",
   "nbconvert_exporter": "python",
   "pygments_lexer": "ipython3",
   "version": "3.10.9"
  }
 },
 "nbformat": 4,
 "nbformat_minor": 5
}
